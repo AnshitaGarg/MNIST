from google.colab import drive
drive.mount('/content/drive')

import numpy as np
import matplotlib.pyplot
%matplotlib inline
import time

def convert( imgs, labels, outfile, n):
  imgf = open(imgs, "rb")
  labelf = open(labels, "rb")
  csvf = open(outfile, "w")

  imgf.read(16)
  labelf.read(8)
  images = []

  for i in range(n):
    image = [ord(labelf.read(1))]
    for j in range(28*28):
      image.append(ord(imgf.read(1)))
    images.append(image)

  for image in images:
    csvf.write(",". join(str(pix) for pix in images)+ "\n")
  imgf.close()
  labelf.close()
  csvf.close()

  mnist_train_x = "/content/drive/MyDrive/mnist/train-images.idx3-ubyte"
mnist_train_y = "/content/drive/MyDrive/mnist/train-images.idx3-ubyte"
mnist_test_y = "/content/drive/MyDrive/mnist/t10k-labels.idx1-ubyte"
mnist_test_x = "/content/drive/MyDrive/mnist/t10k-images.idx3-ubyte"

convert(mnist_train_x, mnist_train_y, "/content/drive/MyDrive/mnist/train.csv", 60000)
convert(mnist_test_x, mnist_test_y, "/content/drive/MyDrive/mnist/test.csv", 10000)

